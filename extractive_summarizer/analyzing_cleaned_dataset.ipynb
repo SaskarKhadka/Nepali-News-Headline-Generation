{
 "cells": [
  {
   "cell_type": "code",
   "execution_count": 1,
   "metadata": {},
   "outputs": [],
   "source": [
    "import pandas as pd"
   ]
  },
  {
   "cell_type": "code",
   "execution_count": 2,
   "metadata": {},
   "outputs": [],
   "source": [
    "df = pd.read_csv('../news_clean/full_cleaned.csv')"
   ]
  },
  {
   "cell_type": "code",
   "execution_count": 3,
   "metadata": {},
   "outputs": [],
   "source": [
    "df.head()"
   ]
  },
  {
   "cell_type": "code",
   "execution_count": 4,
   "metadata": {},
   "outputs": [
    {
     "data": {
      "text/plain": [
       "332820"
      ]
     },
     "execution_count": 4,
     "metadata": {},
     "output_type": "execute_result"
    }
   ],
   "source": [
    "# train = pd.read_csv(\"../news_clean/full_cleaned_train.csv\")\n",
    "# len(train)"
   ]
  },
  {
   "cell_type": "code",
   "execution_count": 5,
   "metadata": {},
   "outputs": [],
   "source": [
    "# train[\"news_length\"] = train[\"news_stopwords\"].apply(lambda x: len(x.split()))\n",
    "# train[\"title_length\"] = train[\"title\"].apply(lambda x: len(x.split()))"
   ]
  },
  {
   "cell_type": "code",
   "execution_count": 6,
   "metadata": {},
   "outputs": [
    {
     "data": {
      "text/html": [
       "<div>\n",
       "<style scoped>\n",
       "    .dataframe tbody tr th:only-of-type {\n",
       "        vertical-align: middle;\n",
       "    }\n",
       "\n",
       "    .dataframe tbody tr th {\n",
       "        vertical-align: top;\n",
       "    }\n",
       "\n",
       "    .dataframe thead th {\n",
       "        text-align: right;\n",
       "    }\n",
       "</style>\n",
       "<table border=\"1\" class=\"dataframe\">\n",
       "  <thead>\n",
       "    <tr style=\"text-align: right;\">\n",
       "      <th></th>\n",
       "      <th>title</th>\n",
       "      <th>news_stopwords</th>\n",
       "      <th>news_no_stopwords</th>\n",
       "      <th>category</th>\n",
       "      <th>news_length</th>\n",
       "      <th>title_length</th>\n",
       "    </tr>\n",
       "  </thead>\n",
       "  <tbody>\n",
       "    <tr>\n",
       "      <th>0</th>\n",
       "      <td>चिया बगानले कर नतिरेपछि सङ्घीय सरकारको ध्यानाक...</td>\n",
       "      <td>इलाम र झापाका सरकारी चिया बगान लिजमा लिएको पक्...</td>\n",
       "      <td>इलाम झापाका सरकारी चिया बगान लिजमा लिएको पक्षल...</td>\n",
       "      <td>समाज</td>\n",
       "      <td>282</td>\n",
       "      <td>9</td>\n",
       "    </tr>\n",
       "    <tr>\n",
       "      <th>1</th>\n",
       "      <td>बिजुलीको पोल सार्न नयाँ मापदण्ड तयार</td>\n",
       "      <td>नेपाल विद्युत् प्राधिकरणले ग्राहकलाई विद्युत् ...</td>\n",
       "      <td>नेपाल विद्युत् प्राधिकरणले ग्राहकलाई विद्युत् ...</td>\n",
       "      <td>अर्थ / वाणिज्य</td>\n",
       "      <td>328</td>\n",
       "      <td>6</td>\n",
       "    </tr>\n",
       "    <tr>\n",
       "      <th>2</th>\n",
       "      <td>नेमारविनै पीएसजी विजयी</td>\n",
       "      <td>लिग लिडर स्टार पेरिस सेन्ट जर्मन ले स्ट्राइकर ...</td>\n",
       "      <td>लिग लिडर स्टार पेरिस सेन्ट जर्मन स्ट्राइकर नेम...</td>\n",
       "      <td>खेलकुद</td>\n",
       "      <td>130</td>\n",
       "      <td>3</td>\n",
       "    </tr>\n",
       "    <tr>\n",
       "      <th>3</th>\n",
       "      <td>कोरोनाको चुनौतीलाई सम्बोधन गर्न जापानद्वारा ७०...</td>\n",
       "      <td>सरकार र सत्तारुढ पार्टीको बैठकमा सम्बोधन गर्दै...</td>\n",
       "      <td>सरकार सत्तारुढ पार्टीको बैठकमा सम्बोधन प्रधानम...</td>\n",
       "      <td>अर्थ / वाणिज्य</td>\n",
       "      <td>72</td>\n",
       "      <td>11</td>\n",
       "    </tr>\n",
       "    <tr>\n",
       "      <th>4</th>\n",
       "      <td>युक्रेन द्वन्द्वको असर युरोपमा मात्र सीमित छैन...</td>\n",
       "      <td>युक्रेन द्वन्द्वको असर युरोपमा मात्र सीमित नरह...</td>\n",
       "      <td>युक्रेन द्वन्द्वको असर युरोपमा सीमित नरहेको भन...</td>\n",
       "      <td>विश्व</td>\n",
       "      <td>147</td>\n",
       "      <td>8</td>\n",
       "    </tr>\n",
       "  </tbody>\n",
       "</table>\n",
       "</div>"
      ],
      "text/plain": [
       "                                               title  \\\n",
       "0  चिया बगानले कर नतिरेपछि सङ्घीय सरकारको ध्यानाक...   \n",
       "1               बिजुलीको पोल सार्न नयाँ मापदण्ड तयार   \n",
       "2                             नेमारविनै पीएसजी विजयी   \n",
       "3  कोरोनाको चुनौतीलाई सम्बोधन गर्न जापानद्वारा ७०...   \n",
       "4  युक्रेन द्वन्द्वको असर युरोपमा मात्र सीमित छैन...   \n",
       "\n",
       "                                      news_stopwords  \\\n",
       "0  इलाम र झापाका सरकारी चिया बगान लिजमा लिएको पक्...   \n",
       "1  नेपाल विद्युत् प्राधिकरणले ग्राहकलाई विद्युत् ...   \n",
       "2  लिग लिडर स्टार पेरिस सेन्ट जर्मन ले स्ट्राइकर ...   \n",
       "3  सरकार र सत्तारुढ पार्टीको बैठकमा सम्बोधन गर्दै...   \n",
       "4  युक्रेन द्वन्द्वको असर युरोपमा मात्र सीमित नरह...   \n",
       "\n",
       "                                   news_no_stopwords        category  \\\n",
       "0  इलाम झापाका सरकारी चिया बगान लिजमा लिएको पक्षल...            समाज   \n",
       "1  नेपाल विद्युत् प्राधिकरणले ग्राहकलाई विद्युत् ...  अर्थ / वाणिज्य   \n",
       "2  लिग लिडर स्टार पेरिस सेन्ट जर्मन स्ट्राइकर नेम...          खेलकुद   \n",
       "3  सरकार सत्तारुढ पार्टीको बैठकमा सम्बोधन प्रधानम...  अर्थ / वाणिज्य   \n",
       "4  युक्रेन द्वन्द्वको असर युरोपमा सीमित नरहेको भन...           विश्व   \n",
       "\n",
       "   news_length  title_length  \n",
       "0          282             9  \n",
       "1          328             6  \n",
       "2          130             3  \n",
       "3           72            11  \n",
       "4          147             8  "
      ]
     },
     "execution_count": 6,
     "metadata": {},
     "output_type": "execute_result"
    }
   ],
   "source": [
    "# train.head()"
   ]
  },
  {
   "cell_type": "code",
   "execution_count": 8,
   "metadata": {},
   "outputs": [
    {
     "data": {
      "text/plain": [
       "19"
      ]
     },
     "execution_count": 8,
     "metadata": {},
     "output_type": "execute_result"
    }
   ],
   "source": [
    "# len(train[train[\"news_length\"] < 6])"
   ]
  },
  {
   "cell_type": "code",
   "execution_count": 9,
   "metadata": {},
   "outputs": [],
   "source": [
    "# train = train[train[\"news_length\"] > 5]"
   ]
  },
  {
   "cell_type": "code",
   "execution_count": 10,
   "metadata": {},
   "outputs": [
    {
     "data": {
      "text/plain": [
       "332801"
      ]
     },
     "execution_count": 10,
     "metadata": {},
     "output_type": "execute_result"
    }
   ],
   "source": [
    "# len(train)"
   ]
  },
  {
   "cell_type": "code",
   "execution_count": 11,
   "metadata": {},
   "outputs": [
    {
     "data": {
      "text/plain": [
       "8"
      ]
     },
     "execution_count": 11,
     "metadata": {},
     "output_type": "execute_result"
    }
   ],
   "source": [
    "# len(train[train[\"title_length\"] < 2])"
   ]
  },
  {
   "cell_type": "code",
   "execution_count": 12,
   "metadata": {},
   "outputs": [],
   "source": [
    "# news = train[\"news_stopwords\"]\n",
    "# headlines = train.drop([\"news_stopwords\", \"news_length\", \"category\"], axis=1)"
   ]
  },
  {
   "cell_type": "code",
   "execution_count": 13,
   "metadata": {},
   "outputs": [
    {
     "data": {
      "text/plain": [
       "(332801, 332801)"
      ]
     },
     "execution_count": 13,
     "metadata": {},
     "output_type": "execute_result"
    }
   ],
   "source": [
    "# len(headlines), len(news)"
   ]
  },
  {
   "cell_type": "code",
   "execution_count": 14,
   "metadata": {},
   "outputs": [
    {
     "data": {
      "text/html": [
       "<div>\n",
       "<style scoped>\n",
       "    .dataframe tbody tr th:only-of-type {\n",
       "        vertical-align: middle;\n",
       "    }\n",
       "\n",
       "    .dataframe tbody tr th {\n",
       "        vertical-align: top;\n",
       "    }\n",
       "\n",
       "    .dataframe thead th {\n",
       "        text-align: right;\n",
       "    }\n",
       "</style>\n",
       "<table border=\"1\" class=\"dataframe\">\n",
       "  <thead>\n",
       "    <tr style=\"text-align: right;\">\n",
       "      <th></th>\n",
       "      <th>title</th>\n",
       "      <th>news_no_stopwords</th>\n",
       "      <th>title_length</th>\n",
       "    </tr>\n",
       "  </thead>\n",
       "  <tbody>\n",
       "    <tr>\n",
       "      <th>0</th>\n",
       "      <td>चिया बगानले कर नतिरेपछि सङ्घीय सरकारको ध्यानाक...</td>\n",
       "      <td>इलाम झापाका सरकारी चिया बगान लिजमा लिएको पक्षल...</td>\n",
       "      <td>9</td>\n",
       "    </tr>\n",
       "    <tr>\n",
       "      <th>1</th>\n",
       "      <td>बिजुलीको पोल सार्न नयाँ मापदण्ड तयार</td>\n",
       "      <td>नेपाल विद्युत् प्राधिकरणले ग्राहकलाई विद्युत् ...</td>\n",
       "      <td>6</td>\n",
       "    </tr>\n",
       "    <tr>\n",
       "      <th>2</th>\n",
       "      <td>नेमारविनै पीएसजी विजयी</td>\n",
       "      <td>लिग लिडर स्टार पेरिस सेन्ट जर्मन स्ट्राइकर नेम...</td>\n",
       "      <td>3</td>\n",
       "    </tr>\n",
       "    <tr>\n",
       "      <th>3</th>\n",
       "      <td>कोरोनाको चुनौतीलाई सम्बोधन गर्न जापानद्वारा ७०...</td>\n",
       "      <td>सरकार सत्तारुढ पार्टीको बैठकमा सम्बोधन प्रधानम...</td>\n",
       "      <td>11</td>\n",
       "    </tr>\n",
       "    <tr>\n",
       "      <th>4</th>\n",
       "      <td>युक्रेन द्वन्द्वको असर युरोपमा मात्र सीमित छैन...</td>\n",
       "      <td>युक्रेन द्वन्द्वको असर युरोपमा सीमित नरहेको भन...</td>\n",
       "      <td>8</td>\n",
       "    </tr>\n",
       "  </tbody>\n",
       "</table>\n",
       "</div>"
      ],
      "text/plain": [
       "                                               title  \\\n",
       "0  चिया बगानले कर नतिरेपछि सङ्घीय सरकारको ध्यानाक...   \n",
       "1               बिजुलीको पोल सार्न नयाँ मापदण्ड तयार   \n",
       "2                             नेमारविनै पीएसजी विजयी   \n",
       "3  कोरोनाको चुनौतीलाई सम्बोधन गर्न जापानद्वारा ७०...   \n",
       "4  युक्रेन द्वन्द्वको असर युरोपमा मात्र सीमित छैन...   \n",
       "\n",
       "                                   news_no_stopwords  title_length  \n",
       "0  इलाम झापाका सरकारी चिया बगान लिजमा लिएको पक्षल...             9  \n",
       "1  नेपाल विद्युत् प्राधिकरणले ग्राहकलाई विद्युत् ...             6  \n",
       "2  लिग लिडर स्टार पेरिस सेन्ट जर्मन स्ट्राइकर नेम...             3  \n",
       "3  सरकार सत्तारुढ पार्टीको बैठकमा सम्बोधन प्रधानम...            11  \n",
       "4  युक्रेन द्वन्द्वको असर युरोपमा सीमित नरहेको भन...             8  "
      ]
     },
     "execution_count": 14,
     "metadata": {},
     "output_type": "execute_result"
    }
   ],
   "source": [
    "# headlines.head()"
   ]
  },
  {
   "cell_type": "code",
   "execution_count": 15,
   "metadata": {},
   "outputs": [],
   "source": [
    "# headlines = headlines[headlines[\"title_length\"] > 1]"
   ]
  },
  {
   "cell_type": "code",
   "execution_count": 16,
   "metadata": {},
   "outputs": [
    {
     "data": {
      "text/plain": [
       "332793"
      ]
     },
     "execution_count": 16,
     "metadata": {},
     "output_type": "execute_result"
    }
   ],
   "source": [
    "# len(headlines)"
   ]
  },
  {
   "cell_type": "code",
   "execution_count": 17,
   "metadata": {},
   "outputs": [],
   "source": [
    "# headlines = headlines[~headlines[\"title\"].str.contains(\"०\")]\n",
    "# headlines = headlines[~headlines[\"title\"].str.contains(\"१\")]\n",
    "# headlines = headlines[~headlines[\"title\"].str.contains(\"२\")]\n",
    "# headlines = headlines[~headlines[\"title\"].str.contains(\"३\")]\n",
    "# headlines = headlines[~headlines[\"title\"].str.contains(\"४\")]\n",
    "# headlines = headlines[~headlines[\"title\"].str.contains(\"५\")]\n",
    "# headlines = headlines[~headlines[\"title\"].str.contains(\"६\")]\n",
    "# headlines = headlines[~headlines[\"title\"].str.contains(\"७\")]\n",
    "# headlines = headlines[~headlines[\"title\"].str.contains(\"८\")]\n",
    "# headlines = headlines[~headlines[\"title\"].str.contains(\"९\")]"
   ]
  },
  {
   "cell_type": "code",
   "execution_count": 18,
   "metadata": {},
   "outputs": [
    {
     "data": {
      "text/plain": [
       "261633"
      ]
     },
     "execution_count": 18,
     "metadata": {},
     "output_type": "execute_result"
    }
   ],
   "source": [
    "# len(headlines)"
   ]
  },
  {
   "cell_type": "code",
   "execution_count": 19,
   "metadata": {},
   "outputs": [],
   "source": [
    "# news_headlines_txt = list(news) + list(headlines[\"title\"])"
   ]
  },
  {
   "cell_type": "code",
   "execution_count": 20,
   "metadata": {},
   "outputs": [
    {
     "data": {
      "text/plain": [
       "594434"
      ]
     },
     "execution_count": 20,
     "metadata": {},
     "output_type": "execute_result"
    }
   ],
   "source": [
    "# len(news_headlines_txt)"
   ]
  },
  {
   "cell_type": "code",
   "execution_count": 21,
   "metadata": {},
   "outputs": [],
   "source": [
    "# news_headlines_txt = pd.Series(news_headlines_txt)"
   ]
  },
  {
   "cell_type": "code",
   "execution_count": 22,
   "metadata": {},
   "outputs": [],
   "source": [
    "# news_headlines_txt.to_csv('summarization_fasttext_train.txt', index=None)"
   ]
  },
  {
   "cell_type": "code",
   "execution_count": 21,
   "metadata": {},
   "outputs": [
    {
     "data": {
      "text/plain": [
       "369800"
      ]
     },
     "execution_count": 21,
     "metadata": {},
     "output_type": "execute_result"
    }
   ],
   "source": [
    "len(df)"
   ]
  },
  {
   "cell_type": "code",
   "execution_count": 11,
   "metadata": {},
   "outputs": [
    {
     "data": {
      "text/plain": [
       "371589"
      ]
     },
     "execution_count": 11,
     "metadata": {},
     "output_type": "execute_result"
    }
   ],
   "source": [
    "df.dropna(inplace=True)\n",
    "len(df)"
   ]
  },
  {
   "cell_type": "code",
   "execution_count": 37,
   "metadata": {},
   "outputs": [],
   "source": [
    "df[\"news_length\"] = df[\"news\"].apply(lambda x: len(x.split()))"
   ]
  },
  {
   "cell_type": "code",
   "execution_count": 41,
   "metadata": {},
   "outputs": [
    {
     "data": {
      "text/plain": [
       "24990"
      ]
     },
     "execution_count": 41,
     "metadata": {},
     "output_type": "execute_result"
    }
   ],
   "source": [
    "len(df[df[\"news_length\"] > 400])"
   ]
  }
 ],
 "metadata": {
  "kernelspec": {
   "display_name": "Python 3",
   "language": "python",
   "name": "python3"
  },
  "language_info": {
   "codemirror_mode": {
    "name": "ipython",
    "version": 3
   },
   "file_extension": ".py",
   "mimetype": "text/x-python",
   "name": "python",
   "nbconvert_exporter": "python",
   "pygments_lexer": "ipython3",
   "version": "3.11.5"
  }
 },
 "nbformat": 4,
 "nbformat_minor": 2
}
